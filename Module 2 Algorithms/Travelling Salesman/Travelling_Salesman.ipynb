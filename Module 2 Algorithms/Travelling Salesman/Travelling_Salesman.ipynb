{
 "cells": [
  {
   "cell_type": "markdown",
   "metadata": {},
   "source": [
    "# Travelling Salesman Mini Project\n",
    "\n",
    "In this mini project, we will implement a good algorithm to reduce the cost of Mr.Trump (or some other important person)'s trip."
   ]
  },
  {
   "cell_type": "markdown",
   "metadata": {},
   "source": [
    "Again, first load the modules we'll need."
   ]
  },
  {
   "cell_type": "code",
   "execution_count": 41,
   "metadata": {},
   "outputs": [
    {
     "name": "stdout",
     "output_type": "stream",
     "text": [
      "The autoreload extension is already loaded. To reload it, use:\n",
      "  %reload_ext autoreload\n"
     ]
    }
   ],
   "source": [
    "from tools import *\n",
    "import sys\n",
    "import re\n",
    "import speedy\n",
    "\n",
    "#Reload modules automatically so that we don't need to restart the notebook\n",
    "%load_ext autoreload\n",
    "%autoreload 2"
   ]
  },
  {
   "cell_type": "markdown",
   "metadata": {},
   "source": [
    "Initializations and file loading"
   ]
  },
  {
   "cell_type": "code",
   "execution_count": 42,
   "metadata": {},
   "outputs": [
    {
     "name": "stdout",
     "output_type": "stream",
     "text": [
      "Opening location file usa.loc\n",
      "Finished reading location file\n"
     ]
    }
   ],
   "source": [
    "m = world()\n",
    "# load the map\n",
    "m.read_locations('usa.loc')\n",
    "\n",
    "# locations \n",
    "places = list(m.locations.values())"
   ]
  },
  {
   "cell_type": "markdown",
   "metadata": {},
   "source": [
    "Implement the speedyTrip() function in speedy.py. Then test our algorithms in the code below:"
   ]
  },
  {
   "cell_type": "code",
   "execution_count": 45,
   "metadata": {},
   "outputs": [
    {
     "name": "stdout",
     "output_type": "stream",
     "text": [
      "Current city is: Portland-OR,       and current distance is 0.0 miles\n",
      "Current city is: Seattle-WA,        and current distance is 143.4 miles\n",
      "Current city is: Vancouver-BC,      and current distance is 261.2 miles\n",
      "Current city is: Boise-ID,          and current distance is 775.6 miles\n",
      "Current city is: Helena-MT,         and current distance is 1072.4 miles\n",
      "Current city is: Salt_Lake_City-UT, and current distance is 1490.5 miles\n",
      "Current city is: Boulder-CO,        and current distance is 1844.9 miles\n",
      "Current city is: Cheyenne-WY,       and current distance is 1930.4 miles\n",
      "Current city is: Rapid_City-SD,     and current distance is 2152.5 miles\n",
      "Current city is: Bismarck-ND,       and current distance is 2381.2 miles\n",
      "Current city is: St_Paul-MN,        and current distance is 2778.6 miles\n",
      "Current city is: Des_Moines-IA,     and current distance is 3029.4 miles\n",
      "Current city is: Omaha-NB,          and current distance is 3161.5 miles\n",
      "Current city is: Wichita-KS,        and current distance is 3422.0 miles\n",
      "Current city is: Oklahoma_City-OK,  and current distance is 3589.9 miles\n",
      "Current city is: Little_Rock-AR,    and current distance is 3899.1 miles\n",
      "Current city is: Jackson-MS,        and current distance is 4115.8 miles\n",
      "Current city is: New_Orleans-LO,    and current distance is 4286.3 miles\n",
      "Current city is: Birmingham-AL,     and current distance is 4606.2 miles\n",
      "Current city is: Atlanta-GA,        and current distance is 4753.4 miles\n",
      "Current city is: Knoxville-TN,      and current distance is 4916.8 miles\n",
      "Current city is: Lexington-KY,      and current distance is 5058.1 miles\n",
      "Current city is: Charleston-WV,     and current distance is 5215.2 miles\n",
      "Current city is: Columbus-OH,       and current distance is 5354.8 miles\n",
      "Current city is: Ann_Arbor-MI,      and current distance is 5517.1 miles\n",
      "Current city is: Chicago-IL,        and current distance is 5727.3 miles\n",
      "Current city is: Indianapolis-IN,   and current distance is 5888.2 miles\n",
      "Current city is: St_Louis-MO,       and current distance is 6127.2 miles\n",
      "Current city is: Green_Bay-WI,      and current distance is 6555.7 miles\n",
      "Current city is: Buffalo-NY,        and current distance is 7042.3 miles\n",
      "Current city is: Pittsburgh-PA,     and current distance is 7221.0 miles\n",
      "Current city is: Washington_DC,     and current distance is 7426.8 miles\n",
      "Current city is: Baltimore-MD,      and current distance is 7464.0 miles\n",
      "Current city is: Dover-DE,          and current distance is 7520.7 miles\n",
      "Current city is: Princeton-NJ,      and current distance is 7604.0 miles\n",
      "Current city is: New_York-NY,       and current distance is 7662.3 miles\n",
      "Current city is: New_Haven-CT,      and current distance is 7753.2 miles\n",
      "Current city is: Providence-RI,     and current distance is 7823.9 miles\n",
      "Current city is: Boston-MA,         and current distance is 7877.6 miles\n",
      "Current city is: Concord-NH,        and current distance is 7939.6 miles\n",
      "Current city is: Augusta-ME,        and current distance is 8013.0 miles\n",
      "Current city is: Montpelier-VT,     and current distance is 8140.4 miles\n",
      "Current city is: Richmond-VA,       and current distance is 8685.7 miles\n",
      "Current city is: Raleigh-NC,        and current distance is 8829.1 miles\n",
      "Current city is: Charleston-SC,     and current distance is 9046.8 miles\n",
      "Current city is: Miami-FL,          and current distance is 9544.2 miles\n",
      "Current city is: Austin-TX,         and current distance is 10686.3 miles\n",
      "Current city is: Roswell-NM,        and current distance is 11153.5 miles\n",
      "Current city is: Phoenix-AZ,        and current distance is 11599.5 miles\n",
      "Current city is: Las_Vegas-NV,      and current distance is 11853.9 miles\n",
      "Current city is: Los_Angeles-CA,    and current distance is 12089.5 miles\n",
      "Current city is: San_Francisco-CA,  and current distance is 12442.8 miles\n",
      "Total distance:                     12997.392110362844\n",
      "Visited all cities!\n",
      "Obama returned to his starting position!\n"
     ]
    }
   ],
   "source": [
    "places = speedy.speedyTrip(places)\n",
    "m.input_trip(places)"
   ]
  },
  {
   "cell_type": "markdown",
   "metadata": {},
   "source": [
    "__(Optional)__ What will you do if some of the routes are blocked? <br>\n",
    "For example: <br>\n",
    "Austin-TX – Miami-FL <br>\n",
    "Washington_DC – Baltimore-MD <br>\n",
    "Ann_Arbor-MI  – St_Louis-MO <br>\n",
    "Vancouver-BC –Raleigh-NC <br>\n",
    "Atlanta-GA – Miami-Fl <br>\n",
    "Improve the speedyTrip() function to avoid these routes, and test it in the code below:"
   ]
  },
  {
   "cell_type": "code",
   "execution_count": null,
   "metadata": {},
   "outputs": [],
   "source": [
    "m.input_trip(places, blocked = True)"
   ]
  }
 ],
 "metadata": {
  "kernelspec": {
   "display_name": "Python 3",
   "language": "python",
   "name": "python3"
  },
  "language_info": {
   "codemirror_mode": {
    "name": "ipython",
    "version": 3
   },
   "file_extension": ".py",
   "mimetype": "text/x-python",
   "name": "python",
   "nbconvert_exporter": "python",
   "pygments_lexer": "ipython3",
   "version": "3.7.3"
  }
 },
 "nbformat": 4,
 "nbformat_minor": 4
}
