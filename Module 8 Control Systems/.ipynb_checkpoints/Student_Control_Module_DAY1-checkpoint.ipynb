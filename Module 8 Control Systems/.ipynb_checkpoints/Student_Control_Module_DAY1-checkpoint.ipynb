{
 "cells": [
  {
   "cell_type": "code",
   "execution_count": 1,
   "metadata": {},
   "outputs": [],
   "source": [
    "# Welcome to Autonomous Control Systems!\n",
    "# This course is broken up over two days\n",
    "# Day 1 has 6 Parts\n",
    "# Day 2 has 5 Parts"
   ]
  },
  {
   "cell_type": "code",
   "execution_count": 2,
   "metadata": {},
   "outputs": [],
   "source": [
    "# This course will utilize the following imports\n",
    "import numpy as np\n",
    "from numpy import matrix\n",
    "import scipy.signal as sig\n",
    "import matplotlib.pyplot as plt\n",
    "from numpy.linalg import matrix_rank\n",
    "from numpy import sqrt\n",
    "from scipy.linalg import solve_continuous_are as CARE"
   ]
  },
  {
   "cell_type": "code",
   "execution_count": 3,
   "metadata": {},
   "outputs": [],
   "source": [
    "#### DAY 1 PART 1: Solving Systems of Equations"
   ]
  },
  {
   "cell_type": "code",
   "execution_count": 4,
   "metadata": {},
   "outputs": [
    {
     "name": "stdout",
     "output_type": "stream",
     "text": [
      "Solution (intersection points) are: [[0.18181818]], [[0.63636364]]\n"
     ]
    }
   ],
   "source": [
    "##Example 1: (Problem Packet)\n",
    "# Consider 2*X1 + X2 = 1   (1)\n",
    "# and     -3*X1 + 4*X2 = 2 (2)\n",
    "\n",
    "A = matrix([2, 1, -3, 4]).reshape((2,2))\n",
    "y = matrix([1, 2]).reshape((2,1))\n",
    "x = A.I * y\n",
    "\n",
    "# Solve for intersection points x=[X1,X2]:\n",
    "print(\"Solution (intersection points) are: \" + str(x[0]) + \", \" + str(x[1]))\n"
   ]
  },
  {
   "cell_type": "code",
   "execution_count": 5,
   "metadata": {},
   "outputs": [],
   "source": [
    "##Example 2: (Problem Packet)\n",
    "# Consider 4*X1 + 6*X2 = 2   (1)\n",
    "# and     2*X1 + 3*X2 = 1 (2)\n",
    "\n",
    "A = matrix([4, 6, 2, 3]).reshape((2,2))\n",
    "y = matrix([2, 1]).reshape((2,1))\n",
    "\n",
    "#they are the same line therefore it raises an error\n"
   ]
  },
  {
   "cell_type": "code",
   "execution_count": 6,
   "metadata": {},
   "outputs": [
    {
     "name": "stdout",
     "output_type": "stream",
     "text": [
      "Solution (intersection points) are: [[0.63636364]], [[1.09090909]]\n"
     ]
    }
   ],
   "source": [
    "##Example 3: (Problem Packet)\n",
    "# Consider -2*X1 + 3*X2 = 2 (1)\n",
    "# and      5*X1 - 2*X2 = 1 (2)\n",
    "\n",
    "A = matrix([-2, 3, 5, -2]).reshape((2,2))\n",
    "y = matrix([2, 1]).reshape((2,1))\n",
    "x = A.I * y\n",
    "\n",
    "# Solve for intersection points x=[X1,X2]:\n",
    "print(\"Solution (intersection points) are: \" + str(x[0]) + \", \" + str(x[1]))"
   ]
  },
  {
   "cell_type": "code",
   "execution_count": 7,
   "metadata": {},
   "outputs": [
    {
     "name": "stdout",
     "output_type": "stream",
     "text": [
      "Solution (intersection points) are: [[4.16333634e-17]], [[8.32667268e-17]], [[0.33333333]]\n"
     ]
    }
   ],
   "source": [
    "##Example 4: (Problem Packet)\n",
    "# Consider 1*X1 + 2*X2 + 3*X3 = 1 (1)\n",
    "# and      4*X1 + 5*X2 + 6*X3 = 2 (2)\n",
    "# and      -7*X1 + 8*X2 + 9*X3 = 3 (3)\n",
    "\n",
    "A = matrix([1, 2, 3, 4, 5, 6, -7, 8, 9]).reshape((3,3))\n",
    "y = matrix([1, 2, 3]).reshape((3,1))\n",
    "x = A.I * y\n",
    "\n",
    "# Solve for intersection points x=[X1,X2]:\n",
    "print(\"Solution (intersection points) are: \" + str(x[0]) + \", \" + str(x[1]) + \", \" + str(x[2]))"
   ]
  },
  {
   "cell_type": "code",
   "execution_count": 8,
   "metadata": {},
   "outputs": [
    {
     "name": "stdout",
     "output_type": "stream",
     "text": [
      "Solution (intersection points) are: [[0.78116343]], [[-0.90027701]], [[1.6232687]]\n"
     ]
    }
   ],
   "source": [
    "##Example 5: (Problem Packet)\n",
    "# Consider   -2*X1 + 2*X2 + 7*X3 = 8 (1)\n",
    "# and      4*X1 + 5*X2 - X3 = -3 (2)\n",
    "# and      9*X1 + X2 + 3*X3 = 11 (3)\n",
    "\n",
    "A = matrix([-2, 2, 7, 4, 5, -1, 9, 1, 3]).reshape((3,3))\n",
    "y = matrix([8, -3, 11]).reshape((3,1))\n",
    "x = A.I * y\n",
    "\n",
    "# Solve for intersection points x=[X1,X2]:\n",
    "print(\"Solution (intersection points) are: \" + str(x[0]) + \", \" + str(x[1]) + \", \" + str(x[2]))"
   ]
  },
  {
   "cell_type": "code",
   "execution_count": 9,
   "metadata": {},
   "outputs": [],
   "source": [
    "#### DAY 1 PART 2: Matrix Math"
   ]
  },
  {
   "cell_type": "code",
   "execution_count": 10,
   "metadata": {},
   "outputs": [],
   "source": [
    "##Example 6:\n",
    "v1 = np.matrix([1,2,3]).reshape((3,1))\n",
    "v2 = np.matrix([1,0,4]).reshape((3,1))\n",
    "v3 = np.matrix([4,5]).reshape((2,1))\n",
    "v4 = np.matrix([1,3]).reshape((2,1))\n",
    "\n",
    "# Dimentionalities are 3x1 for (v1,v2) and 2x1 for (v3,v4)\n",
    "# Solve packet problem questions below"
   ]
  },
  {
   "cell_type": "code",
   "execution_count": 11,
   "metadata": {},
   "outputs": [],
   "source": [
    "# Example 7:\n",
    "# Answer the packet problem questions below"
   ]
  },
  {
   "cell_type": "code",
   "execution_count": 12,
   "metadata": {},
   "outputs": [
    {
     "name": "stdout",
     "output_type": "stream",
     "text": [
      "Solution (intersection points) are:  [[ 6.42424242]\n",
      " [-4.53030303]\n",
      " [-3.25757576]]\n"
     ]
    }
   ],
   "source": [
    "# Example 8.1:\n",
    "# Consider   2*X1 + 3*X2 + X3 = -4 (1)\n",
    "# and        3*X1 - X2 + 7*X3 = 1 (2)\n",
    "# and        6*X1 + 11*X2 - 5*X3 = 5 (3)\n",
    "\n",
    "A = matrix([2, 3, 1, 3, -1, 7, 6, 11, -5]).reshape((3, 3))\n",
    "y = matrix([-4, 1, 5]).reshape((3,1))\n",
    "x = A.I * y\n",
    "\n",
    "# Solve for intersection points x=[X1,X2]:\n",
    "print(\"Solution (intersection points) are: \", x)\n"
   ]
  },
  {
   "cell_type": "code",
   "execution_count": 13,
   "metadata": {},
   "outputs": [
    {
     "name": "stdout",
     "output_type": "stream",
     "text": [
      "Solution (intersection points) are:  [[0.        ]\n",
      " [0.        ]\n",
      " [0.33333333]]\n"
     ]
    }
   ],
   "source": [
    "# Example 8.2:\n",
    "# Consider   1*X1 + 2*X2 + 3*X3 = 1     (1)\n",
    "# and        4*X1 + 5*X2 + 6*X3 = 2     (2)\n",
    "# and        8*X1 + 10*X2 + 12*X3 = 4  (3)\n",
    "\n",
    "A = matrix([1, 2, 3, 4, 5, 6, 8, 11, 12]).reshape((3, 3))\n",
    "y = matrix([1, 2, 4]).reshape((3,1))\n",
    "x = A.I * y\n",
    "\n",
    "# Solve for intersection points x=[X1,X2]:\n",
    "print(\"Solution (intersection points) are: \", x)\n"
   ]
  },
  {
   "cell_type": "code",
   "execution_count": 14,
   "metadata": {},
   "outputs": [],
   "source": [
    "#DAY 1 PART 3: Fundamental Theorum of Lin-Alg (Extra Section)\n",
    "# See Packet"
   ]
  },
  {
   "cell_type": "code",
   "execution_count": 15,
   "metadata": {},
   "outputs": [],
   "source": [
    "#DAY 1 PART4: Kinematics and Motion"
   ]
  },
  {
   "cell_type": "code",
   "execution_count": 16,
   "metadata": {},
   "outputs": [
    {
     "data": {
      "text/plain": [
       "[<matplotlib.lines.Line2D at 0x1d3d4556438>]"
      ]
     },
     "execution_count": 16,
     "metadata": {},
     "output_type": "execute_result"
    },
    {
     "data": {
      "image/png": "[encoded data removed]",
      "text/plain": [
       "<Figure size 432x288 with 1 Axes>"
      ]
     },
     "metadata": {
      "needs_background": "light"
     },
     "output_type": "display_data"
    }
   ],
   "source": [
    "# Example 12: \n",
    "# Suppose we have the position function p(t) = t^2\n",
    "# with t representing elapsed time from start\n",
    "def p(t):\n",
    "    return .5*t**2\n",
    "\n",
    "def v(t):\n",
    "    return t\n",
    "\n",
    "# A) Plot position of car\n",
    "t = np.arange(0,10,.05)\n",
    "plt.plot(p(t))\n",
    "\n",
    "# B) Average velocities of car:\n",
    "plt.plot(v(t))\n"
   ]
  },
  {
   "cell_type": "code",
   "execution_count": 17,
   "metadata": {},
   "outputs": [
    {
     "data": {
      "text/plain": [
       "[<matplotlib.lines.Line2D at 0x1d3d4915fd0>]"
      ]
     },
     "execution_count": 17,
     "metadata": {},
     "output_type": "execute_result"
    },
    {
     "data": {
      "image/png": "[encoded data removed]",
      "text/plain": [
       "<Figure size 432x288 with 3 Axes>"
      ]
     },
     "metadata": {
      "needs_background": "light"
     },
     "output_type": "display_data"
    }
   ],
   "source": [
    "# Example 13:\n",
    "# p(t) = 2*t**3\n",
    "# find v(t) and a(t)\n",
    "def p(t):\n",
    "    return 2*t**3\n",
    "def v(t):\n",
    "    return 6*t**2\n",
    "def a(t):\n",
    "    return 12*t\n",
    "t = np.arange(0,10,.1)\n",
    "\n",
    "fig, axs = plt.subplots(3)\n",
    "axs[0].plot(p(t))\n",
    "axs[1].plot(v(t))\n",
    "axs[2].plot(a(t))\n",
    "\n",
    "\n",
    "# 1) Plot of Position vs Time\n",
    "# 2) Plot of Velocity vs Time\n",
    "# 3) Plot of Acceleration vs Time\n"
   ]
  },
  {
   "cell_type": "code",
   "execution_count": 26,
   "metadata": {},
   "outputs": [
    {
     "data": {
      "text/plain": [
       "[<matplotlib.lines.Line2D at 0x1d3d5bfb6d8>]"
      ]
     },
     "execution_count": 26,
     "metadata": {},
     "output_type": "execute_result"
    },
    {
     "data": {
      "image/png": "[encoded data removed]",
      "text/plain": [
       "<Figure size 432x288 with 1 Axes>"
      ]
     },
     "metadata": {
      "needs_background": "light"
     },
     "output_type": "display_data"
    }
   ],
   "source": [
    "# Example 14:\n",
    "# p(t) = -1/2*t^2 + t + 4t^3\n",
    "# code velocity and accelerations too. Plot all three vs time\n",
    "# 1) Plot of Position vs Time\n",
    "# 2) Plot of Velocity vs Time\n",
    "# 3) Plot of Acceleration vs Time\n",
    "\n",
    "def p(t):\n",
    "    return -0.5*t**2 + t + 4*t**3\n",
    "def v(t):\n",
    "    return -t + 1 +12*t**2\n",
    "def a(t):\n",
    "    return -1 + 24*t\n",
    "\n",
    "t = np.arange(0,10,.1)\n",
    "\n",
    "plt.plot(p(t))\n",
    "plt.plot(v(t))\n",
    "plt.plot(a(t))\n"
   ]
  },
  {
   "cell_type": "code",
   "execution_count": 27,
   "metadata": {},
   "outputs": [
    {
     "data": {
      "text/plain": [
       "[<matplotlib.lines.Line2D at 0x1d3d5c5df98>]"
      ]
     },
     "execution_count": 27,
     "metadata": {},
     "output_type": "execute_result"
    },
    {
     "data": {
      "image/png": "[encoded data removed]",
      "text/plain": [
       "<Figure size 432x288 with 1 Axes>"
      ]
     },
     "metadata": {
      "needs_background": "light"
     },
     "output_type": "display_data"
    }
   ],
   "source": [
    "# Example 15:\n",
    "# p(t) = 3*t^3 -2*t^2 + 5\n",
    "# code velocity and accelerations too. Plot all three vs time\n",
    "# 1) Plot of Position vs Time\n",
    "# 2) Plot of Velocity vs Time\n",
    "# 3) Plot of Acceleration vs Time\n",
    "\n",
    "def p(t):\n",
    "    return 3*t**3 - 2*t**2 + 5\n",
    "def v(t):\n",
    "    return 9*t**2 - 4 \n",
    "def a(t):\n",
    "    return -1 + 24*t\n",
    "\n",
    "t = np.arange(0,10,.1)\n",
    "\n",
    "plt.plot(p(t))\n",
    "plt.plot(v(t))\n",
    "plt.plot(a(t))"
   ]
  },
  {
   "cell_type": "code",
   "execution_count": 37,
   "metadata": {},
   "outputs": [
    {
     "data": {
      "text/plain": [
       "[<matplotlib.lines.Line2D at 0x1d3d5ddce80>]"
      ]
     },
     "execution_count": 37,
     "metadata": {},
     "output_type": "execute_result"
    },
    {
     "data": {
      "image/png": "[encoded data removed]",
      "text/plain": [
       "<Figure size 432x288 with 1 Axes>"
      ]
     },
     "metadata": {
      "needs_background": "light"
     },
     "output_type": "display_data"
    }
   ],
   "source": [
    "# Example 16:\n",
    "# code position function given in packet\n",
    "# code velocity and accelerations too. Plot all three vs time\n",
    "# 1) Plot of Position vs Time\n",
    "# 2) Plot of Velocity vs Time\n",
    "# 3) Plot of Acceleration vs Time\n",
    "\n",
    "def p(t):\n",
    "    return 1/3*t**2 + 4\n",
    "def v(t):\n",
    "    return 2/3*t\n",
    "def a(t):\n",
    "    return 2/3*t**0\n",
    "\n",
    "t = np.arange(0,10,.1)\n",
    "    \n",
    "plt.plot(p(t))\n",
    "plt.plot(v(t))\n",
    "plt.plot(a(t))"
   ]
  },
  {
   "cell_type": "code",
   "execution_count": 38,
   "metadata": {},
   "outputs": [
    {
     "name": "stdout",
     "output_type": "stream",
     "text": [
      "Time at impact: 14.278431229270645\n"
     ]
    }
   ],
   "source": [
    "#Example 17 \n",
    "# Rocket heading down toward earth example (free-fall)\n",
    "d0 = 1000 #m\n",
    "v0 = 0 #m/s\n",
    "accel = -9.81 #m/s^2\n",
    "\n",
    "# a) At what time will the rocket hit the ocean? ie d = 0m\n",
    "# formula is d(t) = .5*accel*t**2 + v0*t + d0\n",
    "\n",
    "def hit_ocean():\n",
    "    return ((-2*d0)/accel)**(1/2)\n",
    "\n",
    "print(\"Time at impact: \" + str(hit_ocean()))\n"
   ]
  },
  {
   "cell_type": "code",
   "execution_count": 47,
   "metadata": {},
   "outputs": [
    {
     "name": "stdout",
     "output_type": "stream",
     "text": [
      "Terminal height is: 1147.7889908256882\n",
      "Time at Terminal Height is: 15.290519877675841\n",
      "Time at Height 1 meter (Downwards) is: 30.581039755351682\n"
     ]
    },
    {
     "data": {
      "text/plain": [
       "[<matplotlib.lines.Line2D at 0x1d3d623d748>]"
      ]
     },
     "execution_count": 47,
     "metadata": {},
     "output_type": "execute_result"
    },
    {
     "data": {
      "image/png": "[encoded data removed]",
      "text/plain": [
       "<Figure size 432x288 with 1 Axes>"
      ]
     },
     "metadata": {
      "needs_background": "light"
     },
     "output_type": "display_data"
    }
   ],
   "source": [
    "#Example 18\n",
    "# Cannon ball launches ball upwards vertically\n",
    "d0 = 1 # meter\n",
    "v0 = 150 # meters a second\n",
    "accel = -9.81 # gravity meters/seconds^2\n",
    "\n",
    "#a) Find the terminal height of the ball\n",
    "#print('Terminal height is: ', ENTER)\n",
    "\n",
    "t_height = -v0 / accel\n",
    "height = (1/2 * accel * t_height**2) + (v0 * t_height) + d0\n",
    "print('Terminal height is: ' + str(height))\n",
    "\n",
    "#b) At what time does the ball reach its terminal height?\n",
    "#we can use d(t) = 1/2*accel*t^2 + v0*t + d0\n",
    "#print('Time at Terminal Height is: ', ENTER)\n",
    "\n",
    "print('Time at Terminal Height is: ' + str(t_height))\n",
    "\n",
    "#c Find time when cannon ball is at 1 meter again:\n",
    "#print('Time at Height 1 meter (Downwards) is: ', ENTER)\n",
    "\n",
    "print('Time at Height 1 meter (Downwards) is: ' + str(2 * t_height))\n",
    "\n",
    "#d Velocity will be 150 m/s downwards\n",
    "\n",
    "#e Plot position, velocity and acceleration to confirm answers above\n",
    "plt.plot((1/2 * accel * t**2) + (v0 * t) + d0)\n",
    "plt.plot(accel*t + v0)\n",
    "plt.plot(accel*(t**0))"
   ]
  },
  {
   "cell_type": "code",
   "execution_count": 23,
   "metadata": {},
   "outputs": [],
   "source": [
    "# PART 5/6: Physics and Free Body Diagrams"
   ]
  },
  {
   "cell_type": "code",
   "execution_count": null,
   "metadata": {},
   "outputs": [],
   "source": []
  },
  {
   "cell_type": "code",
   "execution_count": 24,
   "metadata": {},
   "outputs": [],
   "source": [
    "# PART 6/6: Open Loop Control System Modelling"
   ]
  },
  {
   "cell_type": "code",
   "execution_count": null,
   "metadata": {},
   "outputs": [],
   "source": []
  }
 ],
 "metadata": {
  "kernelspec": {
   "display_name": "Python 3",
   "language": "python",
   "name": "python3"
  },
  "language_info": {
   "codemirror_mode": {
    "name": "ipython",
    "version": 3
   },
   "file_extension": ".py",
   "mimetype": "text/x-python",
   "name": "python",
   "nbconvert_exporter": "python",
   "pygments_lexer": "ipython3",
   "version": "3.7.3"
  }
 },
 "nbformat": 4,
 "nbformat_minor": 4
}
