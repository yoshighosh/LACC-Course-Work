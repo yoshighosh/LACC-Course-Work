{
 "cells": [
  {
   "cell_type": "markdown",
   "metadata": {},
   "source": [
    "# Concept\n",
    "**Serialization** is the process of translating **data structures** or **object state** into a format that can be **stored** (for example, in a **file** or **memory buffer**) or **transmitted** (for example, across a network connection link) and reconstructed later (possibly in a different computer environment).\n",
    "\n",
    "**Deserialization** is the opposite operation, which is to extract a data structure from a series of bytes."
   ]
  },
  {
   "cell_type": "markdown",
   "metadata": {},
   "source": [
    "# Import modules"
   ]
  },
  {
   "cell_type": "code",
   "execution_count": 18,
   "metadata": {
    "collapsed": true
   },
   "outputs": [],
   "source": [
    "import json"
   ]
  },
  {
   "cell_type": "markdown",
   "metadata": {},
   "source": [
    "# Serialization"
   ]
  },
  {
   "cell_type": "code",
   "execution_count": 19,
   "metadata": {
    "collapsed": false
   },
   "outputs": [
    {
     "name": "stdout",
     "output_type": "stream",
     "text": [
      "<class 'dict'>\n",
      "{\n",
      "    \"City\": \"Los Angeles\",\n",
      "    \"ID\": 20,\n",
      "    \"Name\": \"Sandeep Singh\",\n",
      "    \"State\": \"California\"\n",
      "}\n"
     ]
    }
   ],
   "source": [
    "# Dump a data object into a json format string.\n",
    "# Data structure can be dictionary, list, and etc.\n",
    "data = {'Name': 'Sandeep Singh', 'City': 'Los Angeles','ID': 20, 'State': 'California'}\n",
    "print(type(data))\n",
    "data_str = json.dumps({'Name': 'Sandeep Singh', 'City': 'Los Angeles','ID': 20, 'State': 'California'}, \n",
    "                 sort_keys=True, \n",
    "                 indent=4)\n",
    "print(data_str)"
   ]
  },
  {
   "cell_type": "code",
   "execution_count": 20,
   "metadata": {
    "collapsed": true
   },
   "outputs": [],
   "source": [
    "# Dump as a file\n",
    "with open('data.json', 'w') as outfile:\n",
    "    json.dump(data, outfile)"
   ]
  },
  {
   "cell_type": "markdown",
   "metadata": {},
   "source": [
    "# Deserialization"
   ]
  },
  {
   "cell_type": "code",
   "execution_count": 21,
   "metadata": {
    "collapsed": false
   },
   "outputs": [
    {
     "name": "stdout",
     "output_type": "stream",
     "text": [
      "['foo', {'bar': ['baz', None, 1.0, 2]}]\n",
      "<class 'list'>\n"
     ]
    }
   ],
   "source": [
    "# Parse a json format string to a python object.\n",
    "data_str = '[\"foo\", {\"bar\":[\"baz\", null, 1.0, 2]}]'\n",
    "data = json.loads(data_str)\n",
    "print(data)\n",
    "print(type(data))"
   ]
  },
  {
   "cell_type": "code",
   "execution_count": 22,
   "metadata": {
    "collapsed": false
   },
   "outputs": [
    {
     "name": "stdout",
     "output_type": "stream",
     "text": [
      "{'ID': 20, 'Name': 'Sandeep Singh', 'City': 'Los Angeles', 'State': 'California'}\n"
     ]
    }
   ],
   "source": [
    "# Load the data  from a file\n",
    "with open('data.json', 'r') as infile:\n",
    "    print(json.load(infile))"
   ]
  }
 ],
 "metadata": {
  "kernelspec": {
   "display_name": "Python 3",
   "language": "python",
   "name": "python3"
  },
  "language_info": {
   "codemirror_mode": {
    "name": "ipython",
    "version": 3
   },
   "file_extension": ".py",
   "mimetype": "text/x-python",
   "name": "python",
   "nbconvert_exporter": "python",
   "pygments_lexer": "ipython3",
   "version": "3.5.1"
  }
 },
 "nbformat": 4,
 "nbformat_minor": 2
}
