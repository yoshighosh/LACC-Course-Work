{
 "cells": [
  {
   "cell_type": "code",
   "execution_count": null,
   "metadata": {},
   "outputs": [],
   "source": [
    "import pymongo\n",
    "from pymongo import MongoClient\n",
    "\n",
    "client = MongoClient()\n",
    "db = client[\"Memeh\"]\n",
    "collection = db[\"memes\"]"
   ]
  },
  {
   "cell_type": "code",
   "execution_count": null,
   "metadata": {},
   "outputs": [],
   "source": [
    "import requests\n",
    "import json\n",
    "from pprint import pprint\n",
    "\n",
    "api_data = requests.get(\"https://api.imgflip.com/get_memes\")\n",
    "text = api_data.text\n",
    "memes = json.loads(text)\n",
    "data = memes[\"data\"]\n",
    "meme_dict = data[\"memes\"]"
   ]
  },
  {
   "cell_type": "code",
   "execution_count": null,
   "metadata": {},
   "outputs": [],
   "source": [
    "def addData():#run once\n",
    "    for meme in meme_dict:\n",
    "        collection.insert_one(meme)\n",
    "\n",
    "addData()\n",
    "print(db.list_collection_names())"
   ]
  },
  {
   "cell_type": "code",
   "execution_count": null,
   "metadata": {},
   "outputs": [],
   "source": [
    "def names():\n",
    "    for meme in collection.find():\n",
    "        print(meme[\"name\"])\n",
    "        \n",
    "def getURL(item):\n",
    "    print(item[\"url\"])\n",
    "    \n",
    "def query():\n",
    "    user_input = input(\"Enter query: \")\n",
    "    item = {}\n",
    "    if user_input == \"help\":\n",
    "        print(\"List of Commands: \\n help: returns list of commands \\n names: returns list of meme names \\n partial name: returns URL to meme template \\n add: adds meme to database \\n delete: deletes meme from database\")\n",
    "        query()\n",
    "    elif user_input == \"names\":\n",
    "        names()\n",
    "        query()\n",
    "    elif user_input == \"add\":\n",
    "        meme_name = input(\"Enter the name of the meme: \")\n",
    "        for meme in collection.find():\n",
    "            if meme[\"name\"].lower() == meme_name.lower():\n",
    "                print(\"Meme in collection already\")\n",
    "                query()\n",
    "        meme_url = input(\"Enter the URL to the meme template: \")\n",
    "        temp = {\"name\": meme_name, \"url\": meme_url}\n",
    "        collection.insert_one(temp)\n",
    "        query()\n",
    "    elif user_input == \"delete\":\n",
    "        meme_name = input(\"Enter the name of the meme: \")\n",
    "        for meme in collection.find():\n",
    "            if meme[\"name\"].lower() == meme_name.lower():\n",
    "                temp = {\"name\": meme[\"name\"]}\n",
    "                collection.delete_one(temp)\n",
    "    else:\n",
    "        for meme in collection.find():\n",
    "            meme_name = meme[\"name\"].lower()\n",
    "            lowerUser = user_input.lower()\n",
    "            if lowerUser in meme_name:\n",
    "                item = meme\n",
    "        if item == {}:\n",
    "            print(\"List of Commands: \\n help: returns list of commands \\n names: returns list of meme names \\n partial name: returns URL to meme template \\n add: adds meme to database \\n delete: deletes meme from database\")\n",
    "            query()\n",
    "        else:\n",
    "            getURL(item)\n",
    "            query()\n",
    "            \n"
   ]
  }
 ],
 "metadata": {
  "kernelspec": {
   "display_name": "Python 3",
   "language": "python",
   "name": "python3"
  },
  "language_info": {
   "codemirror_mode": {
    "name": "ipython",
    "version": 3
   },
   "file_extension": ".py",
   "mimetype": "text/x-python",
   "name": "python",
   "nbconvert_exporter": "python",
   "pygments_lexer": "ipython3",
   "version": "3.7.3"
  }
 },
 "nbformat": 4,
 "nbformat_minor": 2
}
